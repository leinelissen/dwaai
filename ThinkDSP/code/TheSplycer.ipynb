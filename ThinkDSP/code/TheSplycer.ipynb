{
 "cells": [
  {
   "cell_type": "code",
   "execution_count": null,
   "metadata": {},
   "outputs": [],
   "source": [
    "from __future__ import division\n",
    "import cPickle as pickle\n",
    "import pandas as pd\n",
    "import numpy as np\n",
    "import librosa\n",
    "from itertools import compress\n",
    "import matplotlib.pyplot as plt\n",
    "#%matplotlib inline\n",
    "import thinkdsp\n",
    "import thinkplot\n",
    "from itertools import compress\n",
    "import os\n",
    "from collections import Counter\n"
   ]
  },
  {
   "cell_type": "code",
   "execution_count": null,
   "metadata": {},
   "outputs": [],
   "source": [
    "def findsilence(y,sr,ind_i):\n",
    "    print (\"looking for silences\")\n",
    "    hop = int(round(sr*0.1)) #hop and width defines search window\n",
    "    width = int(sr*0.1)\n",
    "    n_slice = int(len(y)/hop)\n",
    "    starts = np.arange(n_slice)*hop\n",
    "    ends = starts+width\n",
    "    if hop != width:\n",
    "        cutoff = np.argmax(ends>len(y))\n",
    "        starts = starts[:cutoff]\n",
    "        ends = ends[:cutoff]\n",
    "        n_slice = len(starts)\n",
    "    \n",
    "    mask = map(lambda i: np.dot(y[starts[i]:ends[i]],y[starts[i]:ends[i]])/width, range(n_slice)) > 0.2 * np.dot(y,y)/len(y)\n",
    "    starts =  list(compress(starts+ind_i,mask))\n",
    "    ends = list(compress(ends+ind_i,mask))\n",
    "    return (starts[0],ends[len(ends)-1])\n",
    "\n",
    "def get_sound_fragment(filename,start=0,end=None,disp=True,output=False, itr=''):\n",
    "    try:\n",
    "        y, sr = librosa.load(filename)\n",
    "    except:\n",
    "        obj = thinkdsp.read_wave(filename)\n",
    "        y = obj.ys\n",
    "        sr = obj.framerate\n",
    "        print itr, ' : librosa.load failed for '+filename\n",
    "\n",
    "    t = np.arange(len(y))/sr\n",
    "\n",
    "    i = int(round(start * sr))\n",
    "    if end != None:\n",
    "        j = int(round(end * sr))\n",
    "    else:\n",
    "        j = len(y)\n",
    "    startR, endR = findsilence(y[i:j],sr,i)\n",
    "    start = startR/len(y)\n",
    "    end = endR/len(y)\n",
    "    return start, end\n",
    "    \n",
    "def post2df(filepathlist):\n",
    "    i=0\n",
    "    print (filepathlist)\n",
    "    start, end = get_sound_fragment(filepathlist, disp=False, output=True, itr=i)\n",
    "    return start, end\n",
    "\n",
    "def cutFile(className, fileName, soundstartR, soundendR):\n",
    "    print(\"reading: \" + className)\n",
    "    fragment = thinkdsp.read_wave(fileName)\n",
    "    segment = fragment.segment(start=(soundstartR*fragment.duration), duration=(soundendR-soundstartR)*((fragment.duration)))\n",
    "    segment.write(filename='Soundsimproved/cut_' + className)\n",
    "    print(\"saved the new file\")\n",
    "    return"
   ]
  },
  {
   "cell_type": "code",
   "execution_count": null,
   "metadata": {},
   "outputs": [],
   "source": [
    "oldSoundsFolderName = \"./Sounds\"\n",
    "for className in os.listdir(oldSoundsFolderName):\n",
    "    if className.endswith('.wav'):\n",
    "        soundFileName = oldSoundsFolderName + \"/\" + className\n",
    "        print(\"found a sound file\")\n",
    "        a, b = post2df(soundFileName)\n",
    "        cutFile(className, soundFileName, a, b)\n",
    "    else:\n",
    "        print(\"found a non-sound file\")\n",
    "print (\"done finding files\")"
   ]
  }
 ],
 "metadata": {
  "kernelspec": {
   "display_name": "Python 2",
   "language": "python",
   "name": "python2"
  },
  "language_info": {
   "codemirror_mode": {
    "name": "ipython",
    "version": 2
   },
   "file_extension": ".py",
   "mimetype": "text/x-python",
   "name": "python",
   "nbconvert_exporter": "python",
   "pygments_lexer": "ipython2",
   "version": "2.7.17"
  }
 },
 "nbformat": 4,
 "nbformat_minor": 2
}
