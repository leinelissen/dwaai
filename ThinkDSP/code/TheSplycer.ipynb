{
 "cells": [
  {
   "cell_type": "code",
   "execution_count": 148,
   "metadata": {},
   "outputs": [],
   "source": [
    "from __future__ import division\n",
    "import cPickle as pickle\n",
    "import pandas as pd\n",
    "import numpy as np\n",
    "import librosa\n",
    "from itertools import compress\n",
    "import matplotlib.pyplot as plt\n",
    "#%matplotlib inline\n",
    "import thinkdsp\n",
    "import thinkplot\n",
    "from itertools import compress\n",
    "import os\n",
    "from collections import Counter\n"
   ]
  },
  {
   "cell_type": "code",
   "execution_count": 149,
   "metadata": {},
   "outputs": [
    {
     "data": {
      "image/png": "[encoded data removed]",
      "text/plain": [
       "<Figure size 432x288 with 1 Axes>"
      ]
     },
     "metadata": {
      "needs_background": "light"
     },
     "output_type": "display_data"
    }
   ],
   "source": [
    "    fragment = thinkdsp.read_wave(\"Sounds/495520__klankbeeld__child-2-say-buhbuh.wav\")\n",
    "    fragment.plot()"
   ]
  },
  {
   "cell_type": "code",
   "execution_count": 150,
   "metadata": {},
   "outputs": [
    {
     "data": {
      "image/png": "[encoded data removed]",
      "text/plain": [
       "<Figure size 432x288 with 1 Axes>"
      ]
     },
     "metadata": {
      "needs_background": "light"
     },
     "output_type": "display_data"
    }
   ],
   "source": [
    "segment = fragment.segment(start=0.3, duration=0.6)\n",
    "segment.plot()"
   ]
  },
  {
   "cell_type": "code",
   "execution_count": 151,
   "metadata": {},
   "outputs": [
    {
     "name": "stdout",
     "output_type": "stream",
     "text": [
      "Writing output.wav\n"
     ]
    }
   ],
   "source": [
    "segment.write(filename='output.wav')"
   ]
  },
  {
   "cell_type": "code",
   "execution_count": 152,
   "metadata": {},
   "outputs": [],
   "source": [
    "def findsilence(y,sr,ind_i):\n",
    "    hop = int(round(sr*0.2)) #hop and width defines search window\n",
    "    width = int(sr*0.2)\n",
    "    n_slice = int(len(y)/hop)\n",
    "    starts = np.arange(n_slice)*hop\n",
    "    ends = starts+width\n",
    "    if hop != width:\n",
    "        cutoff = np.argmax(ends>len(y))\n",
    "        starts = starts[:cutoff]\n",
    "        ends = ends[:cutoff]\n",
    "        n_slice = len(starts)\n",
    "    mask = map(lambda i: np.dot(y[starts[i]:ends[i]],y[starts[i]:ends[i]])//width, range(n_slice)) < 0.04 * np.dot(y,y)//len(y)\n",
    "    starts =  list(compress(starts+ind_i,mask))\n",
    "    ends = list(compress(ends+ind_i,mask))\n",
    "    return zip(starts,ends)\n",
    "\n",
    "def merger(tulist):\n",
    "    tu=()\n",
    "    for tt in tulist:\n",
    "         tu += tt\n",
    "    cnt = Counter(tu)\n",
    "    res = filter(lambda x: cnt[x]<2, tu)\n",
    "    return map(lambda x: tuple(x),np.array(res).reshape((len(res)/2,2)))\n",
    "\n",
    "def shade_silence(filename,start=0,end=None,disp=True,output=False, itr=''):\n",
    "    \"\"\"Find signal (as output) or silence (as shaded reagion  in plot) in a audio file\n",
    "    filename: (filepath) works best with .wav format\n",
    "    start/end: (float or int) start/end time for duration of interest in second (default= entire length)\n",
    "    disp: (bool) whether to display a plot(default= True)\n",
    "    output: (bool) whether to return an output (default = False)\n",
    "    itr: (int) iteration use for debugging purpose\n",
    "    \"\"\"\n",
    "    try:\n",
    "        y, sr = librosa.load(filename)\n",
    "    except:\n",
    "        obj = thinkdsp.read_wave(filename)\n",
    "        y = obj.ys\n",
    "        sr = obj.framerate\n",
    "        print itr, ' : librosa.load failed for '+filename\n",
    "\n",
    "    t = np.arange(len(y))/sr\n",
    "\n",
    "    i = int(round(start * sr))\n",
    "    if end != None:\n",
    "        j = int(round(end * sr))\n",
    "    else:\n",
    "        j = len(y)\n",
    "    fills = findsilence(y[i:j],sr,i)\n",
    "    if disp:\n",
    "        fig, ax = plt.subplots()\n",
    "        ax.set_title(filename)\n",
    "        ax.plot(t[i:j],y[i:j])\n",
    "    if fills != None:\n",
    "        shades = map(lambda x: (max(x[0],i),min(x[1],j)), fills)\n",
    "        if len(shades)>0:\n",
    "            shades = merger(shades)\n",
    "            if disp:\n",
    "                for s in shades:\n",
    "                    ax.axvspan(s[0]/sr, s[1]/sr, alpha=0.5, color='red')\n",
    "    if len(shades)>1:\n",
    "        live = map(lambda i: (shades[i][1],shades[i+1][0]),xrange(len(shades)-1))\n",
    "    elif len(shades)==1:\n",
    "        a = [i,shades[0][0],shades[0][1],j]\n",
    "        live = filter(lambda x: x != None, map(lambda x: tuple(x) if x[0]!=x[1] else None,np.sort(a).reshape((int(len(a)/2),2))))\n",
    "    else:\n",
    "        live = [(i,j)]\n",
    "    if output:\n",
    "        return live, sr, len(y)\n",
    "    \n",
    "def post2df(filepathlist):\n",
    "    active=[]\n",
    "    srs=[]\n",
    "    dur=[]\n",
    "    i=0\n",
    "    print (filepathlist)\n",
    "    tlist, sr , leng = shade_silence(filepathlist, disp=False, output=True, itr=i)\n",
    "    active.append(tlist)\n",
    "    srs.append(sr)\n",
    "    dur.append(leng/sr)\n",
    "    i+=1\n",
    "    return active, srs, dur\n",
    "\n",
    "def runslice(path2dfpkl,path2files):\n",
    "    with open (path2dfpkl) as f:\n",
    "        df = pickle.load(f)\n",
    "    df['active_region'], df['sr'], df['duration'] = post2df(path2files)\n",
    "    return df"
   ]
  },
  {
   "cell_type": "code",
   "execution_count": 153,
   "metadata": {},
   "outputs": [],
   "source": [
    "fileName = \"Sounds\"\n",
    "if 1==0:\n",
    "    pickling_on = file(\"Pickles/Zample1.pkl\",\"wb\")\n",
    "    pickle.dump(fragment, pickling_on)\n",
    "pickling_on2 = file(\"Pickles/Zample2.pkl\",\"wb\")\n",
    "pickle.dump(\"a\", pickling_on2)"
   ]
  },
  {
   "cell_type": "code",
   "execution_count": 154,
   "metadata": {},
   "outputs": [
    {
     "name": "stdout",
     "output_type": "stream",
     "text": [
      "Sounds/495520__klankbeeld__child-2-say-buhbuh.wav\n"
     ]
    },
    {
     "ename": "TypeError",
     "evalue": "'str' object does not support item assignment",
     "output_type": "error",
     "traceback": [
      "\u001b[1;31m---------------------------------------------------------------------------\u001b[0m",
      "\u001b[1;31mTypeError\u001b[0m                                 Traceback (most recent call last)",
      "\u001b[1;32m<ipython-input-154-28357806a352>\u001b[0m in \u001b[0;36m<module>\u001b[1;34m()\u001b[0m\n\u001b[0;32m      1\u001b[0m \u001b[0mfileObject\u001b[0m \u001b[1;33m=\u001b[0m \u001b[1;34m\"Pickles/Zample2.pkl\"\u001b[0m\u001b[1;33m\u001b[0m\u001b[0m\n\u001b[0;32m      2\u001b[0m \u001b[0moldFileObject\u001b[0m\u001b[1;33m=\u001b[0m \u001b[1;34m\"Sounds/495520__klankbeeld__child-2-say-buhbuh.wav\"\u001b[0m\u001b[1;33m\u001b[0m\u001b[0m\n\u001b[1;32m----> 3\u001b[1;33m \u001b[0mrunslice\u001b[0m\u001b[1;33m(\u001b[0m\u001b[0mfileObject\u001b[0m\u001b[1;33m,\u001b[0m\u001b[0moldFileObject\u001b[0m\u001b[1;33m)\u001b[0m\u001b[1;33m.\u001b[0m\u001b[0mwrite\u001b[0m\u001b[1;33m(\u001b[0m\u001b[0mfilename\u001b[0m\u001b[1;33m=\u001b[0m\u001b[1;34m'newWave.wav'\u001b[0m\u001b[1;33m)\u001b[0m\u001b[1;33m\u001b[0m\u001b[0m\n\u001b[0m",
      "\u001b[1;32m<ipython-input-152-4b20679cddc7>\u001b[0m in \u001b[0;36mrunslice\u001b[1;34m(path2dfpkl, path2files)\u001b[0m\n\u001b[0;32m     84\u001b[0m     \u001b[1;32mwith\u001b[0m \u001b[0mopen\u001b[0m \u001b[1;33m(\u001b[0m\u001b[0mpath2dfpkl\u001b[0m\u001b[1;33m)\u001b[0m \u001b[1;32mas\u001b[0m \u001b[0mf\u001b[0m\u001b[1;33m:\u001b[0m\u001b[1;33m\u001b[0m\u001b[0m\n\u001b[0;32m     85\u001b[0m         \u001b[0mdf\u001b[0m \u001b[1;33m=\u001b[0m \u001b[0mpickle\u001b[0m\u001b[1;33m.\u001b[0m\u001b[0mload\u001b[0m\u001b[1;33m(\u001b[0m\u001b[0mf\u001b[0m\u001b[1;33m)\u001b[0m\u001b[1;33m\u001b[0m\u001b[0m\n\u001b[1;32m---> 86\u001b[1;33m     \u001b[0mdf\u001b[0m\u001b[1;33m[\u001b[0m\u001b[1;34m'active_region'\u001b[0m\u001b[1;33m]\u001b[0m\u001b[1;33m,\u001b[0m \u001b[0mdf\u001b[0m\u001b[1;33m[\u001b[0m\u001b[1;34m'sr'\u001b[0m\u001b[1;33m]\u001b[0m\u001b[1;33m,\u001b[0m \u001b[0mdf\u001b[0m\u001b[1;33m[\u001b[0m\u001b[1;34m'duration'\u001b[0m\u001b[1;33m]\u001b[0m \u001b[1;33m=\u001b[0m \u001b[0mpost2df\u001b[0m\u001b[1;33m(\u001b[0m\u001b[0mpath2files\u001b[0m\u001b[1;33m)\u001b[0m\u001b[1;33m\u001b[0m\u001b[0m\n\u001b[0m\u001b[0;32m     87\u001b[0m     \u001b[1;32mreturn\u001b[0m \u001b[0mdf\u001b[0m\u001b[1;33m\u001b[0m\u001b[0m\n",
      "\u001b[1;31mTypeError\u001b[0m: 'str' object does not support item assignment"
     ]
    }
   ],
   "source": [
    "fileObject = \"Pickles/Zample2.pkl\"\n",
    "oldFileObject= \"Sounds/495520__klankbeeld__child-2-say-buhbuh.wav\"\n",
    "runslice(fileObject,oldFileObject).write(filename='newWave.wav')"
   ]
  }
 ],
 "metadata": {
  "kernelspec": {
   "display_name": "Python 2",
   "language": "python",
   "name": "python2"
  },
  "language_info": {
   "codemirror_mode": {
    "name": "ipython",
    "version": 2
   },
   "file_extension": ".py",
   "mimetype": "text/x-python",
   "name": "python",
   "nbconvert_exporter": "python",
   "pygments_lexer": "ipython2",
   "version": "2.7.17"
  }
 },
 "nbformat": 4,
 "nbformat_minor": 2
}
